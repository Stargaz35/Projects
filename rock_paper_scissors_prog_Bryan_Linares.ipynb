{
 "cells": [
  {
   "cell_type": "code",
   "execution_count": 1,
   "id": "757e4d34",
   "metadata": {},
   "outputs": [],
   "source": [
    "# This function outputs the choices the computer makes for rock, paper, scissors\n",
    "import random as mix\n",
    "def match_cpu():\n",
    "    global t\n",
    "    com_choice = [\"r\", \"s\", \"p\"]  \n",
    "    t = com_choice[mix.randint(0,2)]  # item from list randomly selected\n",
    "    # prints out which object the computer selected\n",
    "    if t == \"r\":\n",
    "        print(\"Computer chose Rock\")\n",
    "    elif t == \"s\":\n",
    "        print(\"Computer chose Scissors\")\n",
    "    else:\n",
    "        print(\"Computer chose Paper\")"
   ]
  },
  {
   "cell_type": "code",
   "execution_count": 2,
   "id": "5a92506e",
   "metadata": {},
   "outputs": [],
   "source": [
    "# This function outputs the results from user input\n",
    "def match_human(h):\n",
    "    global t\n",
    "    # prints the outcome of the game based on user input and computer input\n",
    "    if (h == \"r\" and t == \"s\") or (h == \"s\" and t == \"p\") or (h == \"p\" and t == \"r\"):\n",
    "        if h == \"r\":\n",
    "            print(\"Rock beats Scissors\")\n",
    "        elif h == \"s\":\n",
    "            print(\"Scissors beats Paper\")\n",
    "        else:\n",
    "            print(\"Paper beats Rock\")\n",
    "        print(\"You win!\\n\")\n",
    "    elif h == t:\n",
    "        print(\"It's a draw.\\n\")\n",
    "    else:\n",
    "        print(\"You lose.\\n\")"
   ]
  },
  {
   "cell_type": "code",
   "execution_count": 3,
   "id": "5647d65a",
   "metadata": {},
   "outputs": [
    {
     "name": "stdout",
     "output_type": "stream",
     "text": [
      "Let's play Rock, Paper, Scissors!\n",
      "Rock(r), Paper(p), or Scissors(s)? r\n",
      "Computer chose Scissors\n",
      "Rock beats Scissors\n",
      "You win!\n",
      "\n",
      "Do you wish to continue? Enter y or n: y\n",
      "Let's play Rock, Paper, Scissors!\n",
      "Rock(r), Paper(p), or Scissors(s)? p\n",
      "Computer chose Paper\n",
      "It's a draw.\n",
      "\n",
      "Do you wish to continue? Enter y or n: y\n",
      "Let's play Rock, Paper, Scissors!\n",
      "Rock(r), Paper(p), or Scissors(s)? s\n",
      "Computer chose Scissors\n",
      "It's a draw.\n",
      "\n",
      "Do you wish to continue? Enter y or n: y\n",
      "Let's play Rock, Paper, Scissors!\n",
      "Rock(r), Paper(p), or Scissors(s)? we\n",
      "Wrong key.\n",
      "\n",
      "Try again? Enter y or n: y\n",
      "Let's play Rock, Paper, Scissors!\n",
      "Rock(r), Paper(p), or Scissors(s)? w\n",
      "Wrong key.\n",
      "\n",
      "Try again? Enter y or n: y\n",
      "Let's play Rock, Paper, Scissors!\n",
      "Rock(r), Paper(p), or Scissors(s)? we\n",
      "Wrong key.\n",
      "\n",
      "Try again? Enter y or n: we\n",
      "Game Over. Thanks for playing\n"
     ]
    }
   ],
   "source": [
    "cont = \"y\"\n",
    "while cont == \"y\":  # repeats the game if user wants a rematch\n",
    "    print(\"Let's play Rock, Paper, Scissors!\")\n",
    "    hand = input(\"Rock(r), Paper(p), or Scissors(s)? \")\n",
    "    # stops the game and asks user to enter again\n",
    "    if hand != \"r\" and hand != \"s\" and hand != \"p\":        \n",
    "        print(\"Wrong key.\\n\")\n",
    "        cont = input(\"Try again? Enter y or n: \")\n",
    "    else:\n",
    "        match_cpu()\n",
    "        match_human(hand)\n",
    "        cont = input(\"Do you wish to continue? Enter y or n: \")\n",
    "print(\"Game Over. Thanks for playing\")"
   ]
  }
 ],
 "metadata": {
  "kernelspec": {
   "display_name": "Python 3 (ipykernel)",
   "language": "python",
   "name": "python3"
  },
  "language_info": {
   "codemirror_mode": {
    "name": "ipython",
    "version": 3
   },
   "file_extension": ".py",
   "mimetype": "text/x-python",
   "name": "python",
   "nbconvert_exporter": "python",
   "pygments_lexer": "ipython3",
   "version": "3.9.7"
  }
 },
 "nbformat": 4,
 "nbformat_minor": 5
}
